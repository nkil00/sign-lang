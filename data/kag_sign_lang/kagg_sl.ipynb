{
 "cells": [
  {
   "cell_type": "raw",
   "source": [],
   "metadata": {
    "collapsed": false
   },
   "id": "f8edcb6ecdb5ecc8"
  },
  {
   "cell_type": "code",
   "outputs": [],
   "source": [
    "import matplotlib.pyplot as plt\n",
    "import pandas as pd\n",
    "import numpy as np"
   ],
   "metadata": {
    "collapsed": false,
    "ExecuteTime": {
     "end_time": "2024-10-02T11:49:36.120659Z",
     "start_time": "2024-10-02T11:49:36.109522Z"
    }
   },
   "id": "371111d733dbce62",
   "execution_count": 72
  },
  {
   "cell_type": "code",
   "execution_count": 73,
   "id": "initial_id",
   "metadata": {
    "collapsed": true,
    "ExecuteTime": {
     "end_time": "2024-10-02T11:49:36.923840Z",
     "start_time": "2024-10-02T11:49:36.625023Z"
    }
   },
   "outputs": [
    {
     "data": {
      "text/plain": "   label  pixel1  pixel2  pixel3  pixel4  pixel5  pixel6  pixel7  pixel8  \\\n0      6     149     149     150     150     150     151     151     150   \n1      5     126     128     131     132     133     134     135     135   \n\n   pixel9  ...  pixel775  pixel776  pixel777  pixel778  pixel779  pixel780  \\\n0     151  ...       138       148       127        89        82        96   \n1     136  ...        47       104       194       183       186       184   \n\n   pixel781  pixel782  pixel783  pixel784  \n0       106       112       120       107  \n1       184       184       182       180  \n\n[2 rows x 785 columns]",
      "text/html": "<div>\n<style scoped>\n    .dataframe tbody tr th:only-of-type {\n        vertical-align: middle;\n    }\n\n    .dataframe tbody tr th {\n        vertical-align: top;\n    }\n\n    .dataframe thead th {\n        text-align: right;\n    }\n</style>\n<table border=\"1\" class=\"dataframe\">\n  <thead>\n    <tr style=\"text-align: right;\">\n      <th></th>\n      <th>label</th>\n      <th>pixel1</th>\n      <th>pixel2</th>\n      <th>pixel3</th>\n      <th>pixel4</th>\n      <th>pixel5</th>\n      <th>pixel6</th>\n      <th>pixel7</th>\n      <th>pixel8</th>\n      <th>pixel9</th>\n      <th>...</th>\n      <th>pixel775</th>\n      <th>pixel776</th>\n      <th>pixel777</th>\n      <th>pixel778</th>\n      <th>pixel779</th>\n      <th>pixel780</th>\n      <th>pixel781</th>\n      <th>pixel782</th>\n      <th>pixel783</th>\n      <th>pixel784</th>\n    </tr>\n  </thead>\n  <tbody>\n    <tr>\n      <th>0</th>\n      <td>6</td>\n      <td>149</td>\n      <td>149</td>\n      <td>150</td>\n      <td>150</td>\n      <td>150</td>\n      <td>151</td>\n      <td>151</td>\n      <td>150</td>\n      <td>151</td>\n      <td>...</td>\n      <td>138</td>\n      <td>148</td>\n      <td>127</td>\n      <td>89</td>\n      <td>82</td>\n      <td>96</td>\n      <td>106</td>\n      <td>112</td>\n      <td>120</td>\n      <td>107</td>\n    </tr>\n    <tr>\n      <th>1</th>\n      <td>5</td>\n      <td>126</td>\n      <td>128</td>\n      <td>131</td>\n      <td>132</td>\n      <td>133</td>\n      <td>134</td>\n      <td>135</td>\n      <td>135</td>\n      <td>136</td>\n      <td>...</td>\n      <td>47</td>\n      <td>104</td>\n      <td>194</td>\n      <td>183</td>\n      <td>186</td>\n      <td>184</td>\n      <td>184</td>\n      <td>184</td>\n      <td>182</td>\n      <td>180</td>\n    </tr>\n  </tbody>\n</table>\n<p>2 rows × 785 columns</p>\n</div>"
     },
     "execution_count": 73,
     "metadata": {},
     "output_type": "execute_result"
    }
   ],
   "source": [
    "SIGN_LANG_TRAIN_PATH = \"./sign_mnist_test.csv\"\n",
    "\n",
    "df = pd.read_csv(SIGN_LANG_TRAIN_PATH)\n",
    "df.head(2)"
   ]
  },
  {
   "cell_type": "code",
   "outputs": [],
   "source": [
    "HEIGHT, WIDTH = 28, 28"
   ],
   "metadata": {
    "collapsed": false,
    "ExecuteTime": {
     "end_time": "2024-10-02T11:49:36.925584Z",
     "start_time": "2024-10-02T11:49:36.902224Z"
    }
   },
   "id": "aad0f94cb2513583",
   "execution_count": 74
  },
  {
   "cell_type": "code",
   "outputs": [
    {
     "data": {
      "text/plain": "149"
     },
     "execution_count": 75,
     "metadata": {},
     "output_type": "execute_result"
    }
   ],
   "source": [
    "im = np.zeros((HEIGHT, WIDTH))\n",
    "df.loc(0)[0][1]"
   ],
   "metadata": {
    "collapsed": false,
    "ExecuteTime": {
     "end_time": "2024-10-02T11:49:36.926254Z",
     "start_time": "2024-10-02T11:49:36.905213Z"
    }
   },
   "id": "ed595c3e7790f9de",
   "execution_count": 75
  },
  {
   "cell_type": "code",
   "outputs": [
    {
     "data": {
      "text/plain": "<Figure size 640x480 with 1 Axes>",
      "image/png": "[encoded data removed]"
     },
     "metadata": {},
     "output_type": "display_data"
    }
   ],
   "source": [
    "alph = \"ABCDEFGHIJKLMNOPQRSTUVWXYZ\"\n",
    "idx = 90\n",
    "step = WIDTH\n",
    "start = 1\n",
    "end = step + 1\n",
    "im = df.iloc[idx, 1:].values.reshape(28, 28) \n",
    "plt.imshow(im, cmap=\"gray\")\n",
    "label = int(df.iloc[idx][0])\n",
    "plt.title(f\"Label: {alph[label]}\")\n",
    "plt.show()"
   ],
   "metadata": {
    "collapsed": false,
    "ExecuteTime": {
     "end_time": "2024-10-02T11:52:43.536126Z",
     "start_time": "2024-10-02T11:52:43.430637Z"
    }
   },
   "id": "c2add6f23fb46fe2",
   "execution_count": 83
  },
  {
   "cell_type": "code",
   "outputs": [],
   "source": [
    "from PIL import Image\n",
    "\n",
    "pil_im = Image.fromarray(np.uint8(im))\n",
    "pil_im.show(\"Title\")"
   ],
   "metadata": {
    "collapsed": false,
    "ExecuteTime": {
     "end_time": "2024-10-02T17:51:02.154824Z",
     "start_time": "2024-10-02T17:51:01.605895Z"
    }
   },
   "id": "a433003ffe2875cb",
   "execution_count": 89
  },
  {
   "cell_type": "code",
   "outputs": [
    {
     "name": "stdout",
     "output_type": "stream",
     "text": [
      "[ 6  5 10  0  3]\n"
     ]
    }
   ],
   "source": [
    "print(np.array(df[\"label\"].head()))"
   ],
   "metadata": {
    "collapsed": false,
    "ExecuteTime": {
     "end_time": "2024-10-02T19:39:20.509513Z",
     "start_time": "2024-10-02T19:39:20.505747Z"
    }
   },
   "id": "114a0f6857410c33",
   "execution_count": 93
  },
  {
   "cell_type": "code",
   "outputs": [],
   "source": [],
   "metadata": {
    "collapsed": false
   },
   "id": "61d707ccf40df46e"
  }
 ],
 "metadata": {
  "kernelspec": {
   "display_name": "Python 3",
   "language": "python",
   "name": "python3"
  },
  "language_info": {
   "codemirror_mode": {
    "name": "ipython",
    "version": 2
   },
   "file_extension": ".py",
   "mimetype": "text/x-python",
   "name": "python",
   "nbconvert_exporter": "python",
   "pygments_lexer": "ipython2",
   "version": "2.7.6"
  }
 },
 "nbformat": 4,
 "nbformat_minor": 5
}
