{
 "cells": [
  {
   "cell_type": "raw",
   "source": [],
   "metadata": {
    "collapsed": false
   },
   "id": "f8edcb6ecdb5ecc8"
  },
  {
   "cell_type": "code",
   "outputs": [],
   "source": [
    "import matplotlib.pyplot as plt\n",
    "import pandas as pd\n",
    "import numpy as np"
   ],
   "metadata": {
    "collapsed": false,
    "ExecuteTime": {
     "end_time": "2024-10-03T15:01:11.964315Z",
     "start_time": "2024-10-03T15:01:11.948608Z"
    }
   },
   "id": "371111d733dbce62",
   "execution_count": 139
  },
  {
   "cell_type": "code",
   "execution_count": 140,
   "id": "initial_id",
   "metadata": {
    "collapsed": true,
    "ExecuteTime": {
     "end_time": "2024-10-03T15:01:12.675679Z",
     "start_time": "2024-10-03T15:01:12.019196Z"
    }
   },
   "outputs": [
    {
     "data": {
      "text/plain": "   label  pixel1  pixel2  pixel3  pixel4  pixel5  pixel6  pixel7  pixel8  \\\n0      6     149     149     150     150     150     151     151     150   \n1      5     126     128     131     132     133     134     135     135   \n\n   pixel9  ...  pixel775  pixel776  pixel777  pixel778  pixel779  pixel780  \\\n0     151  ...       138       148       127        89        82        96   \n1     136  ...        47       104       194       183       186       184   \n\n   pixel781  pixel782  pixel783  pixel784  \n0       106       112       120       107  \n1       184       184       182       180  \n\n[2 rows x 785 columns]",
      "text/html": "<div>\n<style scoped>\n    .dataframe tbody tr th:only-of-type {\n        vertical-align: middle;\n    }\n\n    .dataframe tbody tr th {\n        vertical-align: top;\n    }\n\n    .dataframe thead th {\n        text-align: right;\n    }\n</style>\n<table border=\"1\" class=\"dataframe\">\n  <thead>\n    <tr style=\"text-align: right;\">\n      <th></th>\n      <th>label</th>\n      <th>pixel1</th>\n      <th>pixel2</th>\n      <th>pixel3</th>\n      <th>pixel4</th>\n      <th>pixel5</th>\n      <th>pixel6</th>\n      <th>pixel7</th>\n      <th>pixel8</th>\n      <th>pixel9</th>\n      <th>...</th>\n      <th>pixel775</th>\n      <th>pixel776</th>\n      <th>pixel777</th>\n      <th>pixel778</th>\n      <th>pixel779</th>\n      <th>pixel780</th>\n      <th>pixel781</th>\n      <th>pixel782</th>\n      <th>pixel783</th>\n      <th>pixel784</th>\n    </tr>\n  </thead>\n  <tbody>\n    <tr>\n      <th>0</th>\n      <td>6</td>\n      <td>149</td>\n      <td>149</td>\n      <td>150</td>\n      <td>150</td>\n      <td>150</td>\n      <td>151</td>\n      <td>151</td>\n      <td>150</td>\n      <td>151</td>\n      <td>...</td>\n      <td>138</td>\n      <td>148</td>\n      <td>127</td>\n      <td>89</td>\n      <td>82</td>\n      <td>96</td>\n      <td>106</td>\n      <td>112</td>\n      <td>120</td>\n      <td>107</td>\n    </tr>\n    <tr>\n      <th>1</th>\n      <td>5</td>\n      <td>126</td>\n      <td>128</td>\n      <td>131</td>\n      <td>132</td>\n      <td>133</td>\n      <td>134</td>\n      <td>135</td>\n      <td>135</td>\n      <td>136</td>\n      <td>...</td>\n      <td>47</td>\n      <td>104</td>\n      <td>194</td>\n      <td>183</td>\n      <td>186</td>\n      <td>184</td>\n      <td>184</td>\n      <td>184</td>\n      <td>182</td>\n      <td>180</td>\n    </tr>\n  </tbody>\n</table>\n<p>2 rows × 785 columns</p>\n</div>"
     },
     "execution_count": 140,
     "metadata": {},
     "output_type": "execute_result"
    }
   ],
   "source": [
    "SIGN_LANG_TRAIN_PATH = \"./sign_mnist_test.csv\"\n",
    "\n",
    "df = pd.read_csv(SIGN_LANG_TRAIN_PATH)\n",
    "df.head(2)"
   ]
  },
  {
   "cell_type": "code",
   "outputs": [],
   "source": [
    "HEIGHT, WIDTH = 28, 28"
   ],
   "metadata": {
    "collapsed": false,
    "ExecuteTime": {
     "end_time": "2024-10-03T15:01:12.679952Z",
     "start_time": "2024-10-03T15:01:12.661697Z"
    }
   },
   "id": "aad0f94cb2513583",
   "execution_count": 141
  },
  {
   "cell_type": "code",
   "outputs": [
    {
     "data": {
      "text/plain": "149"
     },
     "execution_count": 142,
     "metadata": {},
     "output_type": "execute_result"
    }
   ],
   "source": [
    "im = np.zeros((HEIGHT, WIDTH))\n",
    "df.loc(0)[0][1]"
   ],
   "metadata": {
    "collapsed": false,
    "ExecuteTime": {
     "end_time": "2024-10-03T15:01:12.698120Z",
     "start_time": "2024-10-03T15:01:12.686031Z"
    }
   },
   "id": "ed595c3e7790f9de",
   "execution_count": 142
  },
  {
   "cell_type": "code",
   "outputs": [
    {
     "data": {
      "text/plain": "<Figure size 640x480 with 1 Axes>",
      "image/png": "[encoded data removed]"
     },
     "metadata": {},
     "output_type": "display_data"
    }
   ],
   "source": [
    "alph = \"ABCDEFGHIJKLMNOPQRSTUVWXYZ\"\n",
    "idx = 90\n",
    "step = WIDTH\n",
    "start = 1\n",
    "end = step + 1\n",
    "im = df.iloc[idx, 1:].values.reshape(28, 28) \n",
    "plt.imshow(im, cmap=\"gray\")\n",
    "label = int(df.iloc[idx][0])\n",
    "plt.title(f\"Label: {label}\")\n",
    "plt.show()"
   ],
   "metadata": {
    "collapsed": false,
    "ExecuteTime": {
     "end_time": "2024-10-03T15:01:13.144972Z",
     "start_time": "2024-10-03T15:01:12.721158Z"
    }
   },
   "id": "c2add6f23fb46fe2",
   "execution_count": 143
  },
  {
   "cell_type": "code",
   "outputs": [
    {
     "name": "stdout",
     "output_type": "stream",
     "text": [
      "<class 'numpy.ndarray'>\n"
     ]
    }
   ],
   "source": [
    "from PIL import Image\n",
    "print(type(im))\n",
    "pil_im = Image.fromarray(np.uint8(im))\n",
    "pil_im.show(\"Title\")"
   ],
   "metadata": {
    "collapsed": false,
    "ExecuteTime": {
     "end_time": "2024-10-03T15:01:13.523274Z",
     "start_time": "2024-10-03T15:01:13.109661Z"
    }
   },
   "id": "a433003ffe2875cb",
   "execution_count": 144
  },
  {
   "cell_type": "code",
   "outputs": [
    {
     "data": {
      "text/plain": "10"
     },
     "execution_count": 145,
     "metadata": {},
     "output_type": "execute_result"
    }
   ],
   "source": [
    "ann = df[\"label\"]\n",
    "ann.iloc[2]"
   ],
   "metadata": {
    "collapsed": false,
    "ExecuteTime": {
     "end_time": "2024-10-03T15:01:13.537449Z",
     "start_time": "2024-10-03T15:01:13.532324Z"
    }
   },
   "id": "114a0f6857410c33",
   "execution_count": 145
  },
  {
   "cell_type": "code",
   "outputs": [
    {
     "data": {
      "text/plain": "pandas.core.frame.DataFrame"
     },
     "execution_count": 146,
     "metadata": {},
     "output_type": "execute_result"
    }
   ],
   "source": [
    "data = df.drop(\"label\", axis=1)\n",
    "type(data)"
   ],
   "metadata": {
    "collapsed": false,
    "ExecuteTime": {
     "end_time": "2024-10-03T15:01:13.647635Z",
     "start_time": "2024-10-03T15:01:13.542966Z"
    }
   },
   "id": "61d707ccf40df46e",
   "execution_count": 146
  },
  {
   "cell_type": "code",
   "outputs": [
    {
     "data": {
      "text/plain": "      label  pixel1  pixel2  pixel3  pixel4  pixel5  pixel6  pixel7  pixel8  \\\n88       24     179     180     182     182     183     184     186     186   \n113      24     190     191     194     194     195     195     197     197   \n117      24     158     160     163     163     164     165     166     166   \n182      24      88      99     110     118     125     129     129     134   \n187      24     164     166     168     170     171     174     176     176   \n...     ...     ...     ...     ...     ...     ...     ...     ...     ...   \n7107     24      63      74      85      94     101     105     105     111   \n7111     24     157     158     160     162     164     166     167     168   \n7113     24     171     171     171     171     171     172     172     172   \n7135     24     178     178     178     179     178     179     179     179   \n7161     24     175     176     176     176     176     177     177     177   \n\n      pixel9  ...  pixel775  pixel776  pixel777  pixel778  pixel779  pixel780  \\\n88       186  ...       130       113       135        59        49       166   \n113      197  ...       219       218       216       216       216       215   \n117      167  ...       192       191       189       188       188       187   \n182      141  ...       190       197       197       197       197       197   \n187      176  ...       202       200       198       198       197       197   \n...      ...  ...       ...       ...       ...       ...       ...       ...   \n7107     117  ...       168       176       175       175       175       176   \n7111     168  ...       191       190       188       188       187       187   \n7113     172  ...       106       119       116       107        87        63   \n7135     179  ...        98       115       112       100        77        51   \n7161     177  ...        87       105       100        88        60        28   \n\n      pixel781  pixel782  pixel783  pixel784  \n88         169       167       146        94  \n113        214       213       212       210  \n117        186       185       183       182  \n182        197       197       198       197  \n187        196       195       194       192  \n...        ...       ...       ...       ...  \n7107       176       176       176       175  \n7111       186       185       184       182  \n7113        62        66        60        59  \n7135        46        48        41        39  \n7161        27        32        23        22  \n\n[332 rows x 785 columns]",
      "text/html": "<div>\n<style scoped>\n    .dataframe tbody tr th:only-of-type {\n        vertical-align: middle;\n    }\n\n    .dataframe tbody tr th {\n        vertical-align: top;\n    }\n\n    .dataframe thead th {\n        text-align: right;\n    }\n</style>\n<table border=\"1\" class=\"dataframe\">\n  <thead>\n    <tr style=\"text-align: right;\">\n      <th></th>\n      <th>label</th>\n      <th>pixel1</th>\n      <th>pixel2</th>\n      <th>pixel3</th>\n      <th>pixel4</th>\n      <th>pixel5</th>\n      <th>pixel6</th>\n      <th>pixel7</th>\n      <th>pixel8</th>\n      <th>pixel9</th>\n      <th>...</th>\n      <th>pixel775</th>\n      <th>pixel776</th>\n      <th>pixel777</th>\n      <th>pixel778</th>\n      <th>pixel779</th>\n      <th>pixel780</th>\n      <th>pixel781</th>\n      <th>pixel782</th>\n      <th>pixel783</th>\n      <th>pixel784</th>\n    </tr>\n  </thead>\n  <tbody>\n    <tr>\n      <th>88</th>\n      <td>24</td>\n      <td>179</td>\n      <td>180</td>\n      <td>182</td>\n      <td>182</td>\n      <td>183</td>\n      <td>184</td>\n      <td>186</td>\n      <td>186</td>\n      <td>186</td>\n      <td>...</td>\n      <td>130</td>\n      <td>113</td>\n      <td>135</td>\n      <td>59</td>\n      <td>49</td>\n      <td>166</td>\n      <td>169</td>\n      <td>167</td>\n      <td>146</td>\n      <td>94</td>\n    </tr>\n    <tr>\n      <th>113</th>\n      <td>24</td>\n      <td>190</td>\n      <td>191</td>\n      <td>194</td>\n      <td>194</td>\n      <td>195</td>\n      <td>195</td>\n      <td>197</td>\n      <td>197</td>\n      <td>197</td>\n      <td>...</td>\n      <td>219</td>\n      <td>218</td>\n      <td>216</td>\n      <td>216</td>\n      <td>216</td>\n      <td>215</td>\n      <td>214</td>\n      <td>213</td>\n      <td>212</td>\n      <td>210</td>\n    </tr>\n    <tr>\n      <th>117</th>\n      <td>24</td>\n      <td>158</td>\n      <td>160</td>\n      <td>163</td>\n      <td>163</td>\n      <td>164</td>\n      <td>165</td>\n      <td>166</td>\n      <td>166</td>\n      <td>167</td>\n      <td>...</td>\n      <td>192</td>\n      <td>191</td>\n      <td>189</td>\n      <td>188</td>\n      <td>188</td>\n      <td>187</td>\n      <td>186</td>\n      <td>185</td>\n      <td>183</td>\n      <td>182</td>\n    </tr>\n    <tr>\n      <th>182</th>\n      <td>24</td>\n      <td>88</td>\n      <td>99</td>\n      <td>110</td>\n      <td>118</td>\n      <td>125</td>\n      <td>129</td>\n      <td>129</td>\n      <td>134</td>\n      <td>141</td>\n      <td>...</td>\n      <td>190</td>\n      <td>197</td>\n      <td>197</td>\n      <td>197</td>\n      <td>197</td>\n      <td>197</td>\n      <td>197</td>\n      <td>197</td>\n      <td>198</td>\n      <td>197</td>\n    </tr>\n    <tr>\n      <th>187</th>\n      <td>24</td>\n      <td>164</td>\n      <td>166</td>\n      <td>168</td>\n      <td>170</td>\n      <td>171</td>\n      <td>174</td>\n      <td>176</td>\n      <td>176</td>\n      <td>176</td>\n      <td>...</td>\n      <td>202</td>\n      <td>200</td>\n      <td>198</td>\n      <td>198</td>\n      <td>197</td>\n      <td>197</td>\n      <td>196</td>\n      <td>195</td>\n      <td>194</td>\n      <td>192</td>\n    </tr>\n    <tr>\n      <th>...</th>\n      <td>...</td>\n      <td>...</td>\n      <td>...</td>\n      <td>...</td>\n      <td>...</td>\n      <td>...</td>\n      <td>...</td>\n      <td>...</td>\n      <td>...</td>\n      <td>...</td>\n      <td>...</td>\n      <td>...</td>\n      <td>...</td>\n      <td>...</td>\n      <td>...</td>\n      <td>...</td>\n      <td>...</td>\n      <td>...</td>\n      <td>...</td>\n      <td>...</td>\n      <td>...</td>\n    </tr>\n    <tr>\n      <th>7107</th>\n      <td>24</td>\n      <td>63</td>\n      <td>74</td>\n      <td>85</td>\n      <td>94</td>\n      <td>101</td>\n      <td>105</td>\n      <td>105</td>\n      <td>111</td>\n      <td>117</td>\n      <td>...</td>\n      <td>168</td>\n      <td>176</td>\n      <td>175</td>\n      <td>175</td>\n      <td>175</td>\n      <td>176</td>\n      <td>176</td>\n      <td>176</td>\n      <td>176</td>\n      <td>175</td>\n    </tr>\n    <tr>\n      <th>7111</th>\n      <td>24</td>\n      <td>157</td>\n      <td>158</td>\n      <td>160</td>\n      <td>162</td>\n      <td>164</td>\n      <td>166</td>\n      <td>167</td>\n      <td>168</td>\n      <td>168</td>\n      <td>...</td>\n      <td>191</td>\n      <td>190</td>\n      <td>188</td>\n      <td>188</td>\n      <td>187</td>\n      <td>187</td>\n      <td>186</td>\n      <td>185</td>\n      <td>184</td>\n      <td>182</td>\n    </tr>\n    <tr>\n      <th>7113</th>\n      <td>24</td>\n      <td>171</td>\n      <td>171</td>\n      <td>171</td>\n      <td>171</td>\n      <td>171</td>\n      <td>172</td>\n      <td>172</td>\n      <td>172</td>\n      <td>172</td>\n      <td>...</td>\n      <td>106</td>\n      <td>119</td>\n      <td>116</td>\n      <td>107</td>\n      <td>87</td>\n      <td>63</td>\n      <td>62</td>\n      <td>66</td>\n      <td>60</td>\n      <td>59</td>\n    </tr>\n    <tr>\n      <th>7135</th>\n      <td>24</td>\n      <td>178</td>\n      <td>178</td>\n      <td>178</td>\n      <td>179</td>\n      <td>178</td>\n      <td>179</td>\n      <td>179</td>\n      <td>179</td>\n      <td>179</td>\n      <td>...</td>\n      <td>98</td>\n      <td>115</td>\n      <td>112</td>\n      <td>100</td>\n      <td>77</td>\n      <td>51</td>\n      <td>46</td>\n      <td>48</td>\n      <td>41</td>\n      <td>39</td>\n    </tr>\n    <tr>\n      <th>7161</th>\n      <td>24</td>\n      <td>175</td>\n      <td>176</td>\n      <td>176</td>\n      <td>176</td>\n      <td>176</td>\n      <td>177</td>\n      <td>177</td>\n      <td>177</td>\n      <td>177</td>\n      <td>...</td>\n      <td>87</td>\n      <td>105</td>\n      <td>100</td>\n      <td>88</td>\n      <td>60</td>\n      <td>28</td>\n      <td>27</td>\n      <td>32</td>\n      <td>23</td>\n      <td>22</td>\n    </tr>\n  </tbody>\n</table>\n<p>332 rows × 785 columns</p>\n</div>"
     },
     "execution_count": 153,
     "metadata": {},
     "output_type": "execute_result"
    }
   ],
   "source": [
    "optdf = pd.read_csv(SIGN_LANG_TRAIN_PATH)\n",
    "optdf[optdf[\"label\"] == 24]"
   ],
   "metadata": {
    "collapsed": false,
    "ExecuteTime": {
     "end_time": "2024-10-03T15:16:24.606046Z",
     "start_time": "2024-10-03T15:16:24.346630Z"
    }
   },
   "id": "40a72f38a49a20a1",
   "execution_count": 153
  },
  {
   "cell_type": "code",
   "outputs": [
    {
     "data": {
      "text/plain": "0"
     },
     "execution_count": 148,
     "metadata": {},
     "output_type": "execute_result"
    }
   ],
   "source": [
    "# (1, (_, val))\n",
    "optdf.loc[3, \"label\"]"
   ],
   "metadata": {
    "collapsed": false,
    "ExecuteTime": {
     "end_time": "2024-10-03T15:01:14.076197Z",
     "start_time": "2024-10-03T15:01:14.074225Z"
    }
   },
   "id": "740d7f105ddbc729",
   "execution_count": 148
  },
  {
   "cell_type": "code",
   "outputs": [],
   "source": [
    "import torch\n",
    "import torch.nn as nn\n",
    "\n",
    "class Model(nn.Module):\n",
    "    def __init__(self, nf, nt, nl, hs, do):\n",
    "        super().__init__()\n",
    "        layers = []\n",
    "        for _ in range(nl):\n",
    "            if len(layers) == 0:\n",
    "                layers.append(nn.Linear(nf, hs))\n",
    "                layers.append(nn.BatchNorm1d(hs))\n",
    "                layers.append(nn.Dropout(do))\n",
    "                layers.append(nn.ReLU())\n",
    "            else:\n",
    "\t            layers.append(nn.Linear(hs, hs))\n",
    "\t            layers.append(nn.BatchNorm1d(hs))\n",
    "\t            layers.append(nn.Dropout(do))\n",
    "\t            layers.append(nn.ReLU())\n",
    "        layers.append(nn.Linear(hs, nt))\n",
    "        self.model = nn.Sequential(*layers)\n",
    "    \n",
    "    def forward(self, x):\n",
    "        return self.model(x)\n"
   ],
   "metadata": {
    "collapsed": false,
    "ExecuteTime": {
     "end_time": "2024-10-03T15:01:14.089900Z",
     "start_time": "2024-10-03T15:01:14.082478Z"
    }
   },
   "id": "e0361efc90b2078f",
   "execution_count": 149
  },
  {
   "cell_type": "code",
   "outputs": [
    {
     "data": {
      "text/plain": "Model(\n  (model): Sequential(\n    (0): Linear(in_features=3, out_features=24, bias=True)\n    (1): BatchNorm1d(24, eps=1e-05, momentum=0.1, affine=True, track_running_stats=True)\n    (2): Dropout(p=0.4, inplace=False)\n    (3): ReLU()\n    (4): Linear(in_features=24, out_features=24, bias=True)\n    (5): BatchNorm1d(24, eps=1e-05, momentum=0.1, affine=True, track_running_stats=True)\n    (6): Dropout(p=0.4, inplace=False)\n    (7): ReLU()\n    (8): Linear(in_features=24, out_features=24, bias=True)\n    (9): BatchNorm1d(24, eps=1e-05, momentum=0.1, affine=True, track_running_stats=True)\n    (10): Dropout(p=0.4, inplace=False)\n    (11): ReLU()\n    (12): Linear(in_features=24, out_features=24, bias=True)\n    (13): BatchNorm1d(24, eps=1e-05, momentum=0.1, affine=True, track_running_stats=True)\n    (14): Dropout(p=0.4, inplace=False)\n    (15): ReLU()\n    (16): Linear(in_features=24, out_features=5, bias=True)\n  )\n)"
     },
     "execution_count": 150,
     "metadata": {},
     "output_type": "execute_result"
    }
   ],
   "source": [
    "\n",
    "model = Model(\n",
    "    nf=3,\n",
    "    nt=5,\n",
    "    nl=4,\n",
    "    hs=24,\n",
    "    do=0.4\n",
    ")\n",
    "model"
   ],
   "metadata": {
    "collapsed": false,
    "ExecuteTime": {
     "end_time": "2024-10-03T15:01:14.160064Z",
     "start_time": "2024-10-03T15:01:14.090359Z"
    }
   },
   "id": "a43702b7626c44a2",
   "execution_count": 150
  },
  {
   "cell_type": "code",
   "outputs": [],
   "source": [],
   "metadata": {
    "collapsed": false,
    "ExecuteTime": {
     "end_time": "2024-10-03T15:01:14.160458Z",
     "start_time": "2024-10-03T15:01:14.110199Z"
    }
   },
   "id": "6016dfba9a95766e",
   "execution_count": 150
  }
 ],
 "metadata": {
  "kernelspec": {
   "display_name": "Python 3",
   "language": "python",
   "name": "python3"
  },
  "language_info": {
   "codemirror_mode": {
    "name": "ipython",
    "version": 2
   },
   "file_extension": ".py",
   "mimetype": "text/x-python",
   "name": "python",
   "nbconvert_exporter": "python",
   "pygments_lexer": "ipython2",
   "version": "2.7.6"
  }
 },
 "nbformat": 4,
 "nbformat_minor": 5
}
