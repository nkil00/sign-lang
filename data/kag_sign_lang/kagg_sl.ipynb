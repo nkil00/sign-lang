{
 "cells": [
  {
   "cell_type": "raw",
   "source": [],
   "metadata": {
    "collapsed": false
   },
   "id": "f8edcb6ecdb5ecc8"
  },
  {
   "cell_type": "code",
   "outputs": [],
   "source": [
    "import matplotlib.pyplot as plt\n",
    "import pandas as pd\n",
    "import numpy as np"
   ],
   "metadata": {
    "collapsed": false,
    "ExecuteTime": {
     "end_time": "2024-10-06T09:45:26.892905Z",
     "start_time": "2024-10-06T09:45:26.852768Z"
    }
   },
   "id": "371111d733dbce62",
   "execution_count": 47
  },
  {
   "cell_type": "code",
   "execution_count": 48,
   "id": "initial_id",
   "metadata": {
    "collapsed": true,
    "ExecuteTime": {
     "end_time": "2024-10-06T09:45:27.157284Z",
     "start_time": "2024-10-06T09:45:26.858450Z"
    }
   },
   "outputs": [
    {
     "data": {
      "text/plain": "   label  pixel1  pixel2  pixel3  pixel4  pixel5  pixel6  pixel7  pixel8  \\\n0      6     149     149     150     150     150     151     151     150   \n1      5     126     128     131     132     133     134     135     135   \n\n   pixel9  ...  pixel775  pixel776  pixel777  pixel778  pixel779  pixel780  \\\n0     151  ...       138       148       127        89        82        96   \n1     136  ...        47       104       194       183       186       184   \n\n   pixel781  pixel782  pixel783  pixel784  \n0       106       112       120       107  \n1       184       184       182       180  \n\n[2 rows x 785 columns]",
      "text/html": "<div>\n<style scoped>\n    .dataframe tbody tr th:only-of-type {\n        vertical-align: middle;\n    }\n\n    .dataframe tbody tr th {\n        vertical-align: top;\n    }\n\n    .dataframe thead th {\n        text-align: right;\n    }\n</style>\n<table border=\"1\" class=\"dataframe\">\n  <thead>\n    <tr style=\"text-align: right;\">\n      <th></th>\n      <th>label</th>\n      <th>pixel1</th>\n      <th>pixel2</th>\n      <th>pixel3</th>\n      <th>pixel4</th>\n      <th>pixel5</th>\n      <th>pixel6</th>\n      <th>pixel7</th>\n      <th>pixel8</th>\n      <th>pixel9</th>\n      <th>...</th>\n      <th>pixel775</th>\n      <th>pixel776</th>\n      <th>pixel777</th>\n      <th>pixel778</th>\n      <th>pixel779</th>\n      <th>pixel780</th>\n      <th>pixel781</th>\n      <th>pixel782</th>\n      <th>pixel783</th>\n      <th>pixel784</th>\n    </tr>\n  </thead>\n  <tbody>\n    <tr>\n      <th>0</th>\n      <td>6</td>\n      <td>149</td>\n      <td>149</td>\n      <td>150</td>\n      <td>150</td>\n      <td>150</td>\n      <td>151</td>\n      <td>151</td>\n      <td>150</td>\n      <td>151</td>\n      <td>...</td>\n      <td>138</td>\n      <td>148</td>\n      <td>127</td>\n      <td>89</td>\n      <td>82</td>\n      <td>96</td>\n      <td>106</td>\n      <td>112</td>\n      <td>120</td>\n      <td>107</td>\n    </tr>\n    <tr>\n      <th>1</th>\n      <td>5</td>\n      <td>126</td>\n      <td>128</td>\n      <td>131</td>\n      <td>132</td>\n      <td>133</td>\n      <td>134</td>\n      <td>135</td>\n      <td>135</td>\n      <td>136</td>\n      <td>...</td>\n      <td>47</td>\n      <td>104</td>\n      <td>194</td>\n      <td>183</td>\n      <td>186</td>\n      <td>184</td>\n      <td>184</td>\n      <td>184</td>\n      <td>182</td>\n      <td>180</td>\n    </tr>\n  </tbody>\n</table>\n<p>2 rows × 785 columns</p>\n</div>"
     },
     "execution_count": 48,
     "metadata": {},
     "output_type": "execute_result"
    }
   ],
   "source": [
    "SIGN_LANG_TRAIN_PATH = \"./sign_mnist_test.csv\"\n",
    "\n",
    "df = pd.read_csv(SIGN_LANG_TRAIN_PATH)\n",
    "df.head(2)"
   ]
  },
  {
   "cell_type": "code",
   "outputs": [],
   "source": [
    "HEIGHT, WIDTH = 28, 28"
   ],
   "metadata": {
    "collapsed": false,
    "ExecuteTime": {
     "end_time": "2024-10-06T09:45:27.157684Z",
     "start_time": "2024-10-06T09:45:27.151292Z"
    }
   },
   "id": "aad0f94cb2513583",
   "execution_count": 49
  },
  {
   "cell_type": "code",
   "outputs": [
    {
     "data": {
      "text/plain": "149"
     },
     "execution_count": 50,
     "metadata": {},
     "output_type": "execute_result"
    }
   ],
   "source": [
    "im = np.zeros((HEIGHT, WIDTH))\n",
    "df.loc(0)[0][1]"
   ],
   "metadata": {
    "collapsed": false,
    "ExecuteTime": {
     "end_time": "2024-10-06T09:45:27.158054Z",
     "start_time": "2024-10-06T09:45:27.154568Z"
    }
   },
   "id": "ed595c3e7790f9de",
   "execution_count": 50
  },
  {
   "cell_type": "code",
   "outputs": [
    {
     "data": {
      "text/plain": "      label  pixel1  pixel2  pixel3  pixel4  pixel5  pixel6  pixel7  pixel8  \\\n3         0     203     205     207     206     207     209     210     209   \n17        0     199     201     203     205     207     208     209     211   \n21        0     180     177     178     179     179     179     178     177   \n96        0     179     181     182     184     186     188     188     189   \n97        0     171     173     176     178     180     182     183     185   \n...     ...     ...     ...     ...     ...     ...     ...     ...     ...   \n7103      0     172     173     176     178     180     182     183     185   \n7131      0     154     156     160     162     163     165     166     170   \n7133      0     152     153     155     157     158     163     163     164   \n7134      0     197     199     199     199     200     201     202     201   \n7142      0     218     219     219     218     218     218     218     218   \n\n      pixel9  ...  pixel775  pixel776  pixel777  pixel778  pixel779  pixel780  \\\n3        210  ...       154       248       247       248       253       236   \n17       211  ...       231       232       232       233       231       231   \n21       178  ...       195       197       197       195       194       193   \n96       190  ...       211       210       210       210       209       209   \n97       185  ...       209       210       210       211       209       208   \n...      ...  ...       ...       ...       ...       ...       ...       ...   \n7103     186  ...       210       210       210       210       209       208   \n7131     169  ...         0         0         0         0         0         0   \n7133     165  ...         0        77       222       202       205       206   \n7134     202  ...       164       227       226       227       231       219   \n7142     218  ...       229       227       227       226       224       224   \n\n      pixel781  pixel782  pixel783  pixel784  \n3          230       240       253       255  \n17         230       230       230       230  \n21         192       191       189       187  \n96         209       209       209       207  \n97         207       207       207       207  \n...        ...       ...       ...       ...  \n7103       207       207       207       207  \n7131         0         0         0         0  \n7133       207       207       207       207  \n7134       215       222       230       232  \n7142       222       221       219       218  \n\n[331 rows x 785 columns]",
      "text/html": "<div>\n<style scoped>\n    .dataframe tbody tr th:only-of-type {\n        vertical-align: middle;\n    }\n\n    .dataframe tbody tr th {\n        vertical-align: top;\n    }\n\n    .dataframe thead th {\n        text-align: right;\n    }\n</style>\n<table border=\"1\" class=\"dataframe\">\n  <thead>\n    <tr style=\"text-align: right;\">\n      <th></th>\n      <th>label</th>\n      <th>pixel1</th>\n      <th>pixel2</th>\n      <th>pixel3</th>\n      <th>pixel4</th>\n      <th>pixel5</th>\n      <th>pixel6</th>\n      <th>pixel7</th>\n      <th>pixel8</th>\n      <th>pixel9</th>\n      <th>...</th>\n      <th>pixel775</th>\n      <th>pixel776</th>\n      <th>pixel777</th>\n      <th>pixel778</th>\n      <th>pixel779</th>\n      <th>pixel780</th>\n      <th>pixel781</th>\n      <th>pixel782</th>\n      <th>pixel783</th>\n      <th>pixel784</th>\n    </tr>\n  </thead>\n  <tbody>\n    <tr>\n      <th>3</th>\n      <td>0</td>\n      <td>203</td>\n      <td>205</td>\n      <td>207</td>\n      <td>206</td>\n      <td>207</td>\n      <td>209</td>\n      <td>210</td>\n      <td>209</td>\n      <td>210</td>\n      <td>...</td>\n      <td>154</td>\n      <td>248</td>\n      <td>247</td>\n      <td>248</td>\n      <td>253</td>\n      <td>236</td>\n      <td>230</td>\n      <td>240</td>\n      <td>253</td>\n      <td>255</td>\n    </tr>\n    <tr>\n      <th>17</th>\n      <td>0</td>\n      <td>199</td>\n      <td>201</td>\n      <td>203</td>\n      <td>205</td>\n      <td>207</td>\n      <td>208</td>\n      <td>209</td>\n      <td>211</td>\n      <td>211</td>\n      <td>...</td>\n      <td>231</td>\n      <td>232</td>\n      <td>232</td>\n      <td>233</td>\n      <td>231</td>\n      <td>231</td>\n      <td>230</td>\n      <td>230</td>\n      <td>230</td>\n      <td>230</td>\n    </tr>\n    <tr>\n      <th>21</th>\n      <td>0</td>\n      <td>180</td>\n      <td>177</td>\n      <td>178</td>\n      <td>179</td>\n      <td>179</td>\n      <td>179</td>\n      <td>178</td>\n      <td>177</td>\n      <td>178</td>\n      <td>...</td>\n      <td>195</td>\n      <td>197</td>\n      <td>197</td>\n      <td>195</td>\n      <td>194</td>\n      <td>193</td>\n      <td>192</td>\n      <td>191</td>\n      <td>189</td>\n      <td>187</td>\n    </tr>\n    <tr>\n      <th>96</th>\n      <td>0</td>\n      <td>179</td>\n      <td>181</td>\n      <td>182</td>\n      <td>184</td>\n      <td>186</td>\n      <td>188</td>\n      <td>188</td>\n      <td>189</td>\n      <td>190</td>\n      <td>...</td>\n      <td>211</td>\n      <td>210</td>\n      <td>210</td>\n      <td>210</td>\n      <td>209</td>\n      <td>209</td>\n      <td>209</td>\n      <td>209</td>\n      <td>209</td>\n      <td>207</td>\n    </tr>\n    <tr>\n      <th>97</th>\n      <td>0</td>\n      <td>171</td>\n      <td>173</td>\n      <td>176</td>\n      <td>178</td>\n      <td>180</td>\n      <td>182</td>\n      <td>183</td>\n      <td>185</td>\n      <td>185</td>\n      <td>...</td>\n      <td>209</td>\n      <td>210</td>\n      <td>210</td>\n      <td>211</td>\n      <td>209</td>\n      <td>208</td>\n      <td>207</td>\n      <td>207</td>\n      <td>207</td>\n      <td>207</td>\n    </tr>\n    <tr>\n      <th>...</th>\n      <td>...</td>\n      <td>...</td>\n      <td>...</td>\n      <td>...</td>\n      <td>...</td>\n      <td>...</td>\n      <td>...</td>\n      <td>...</td>\n      <td>...</td>\n      <td>...</td>\n      <td>...</td>\n      <td>...</td>\n      <td>...</td>\n      <td>...</td>\n      <td>...</td>\n      <td>...</td>\n      <td>...</td>\n      <td>...</td>\n      <td>...</td>\n      <td>...</td>\n      <td>...</td>\n    </tr>\n    <tr>\n      <th>7103</th>\n      <td>0</td>\n      <td>172</td>\n      <td>173</td>\n      <td>176</td>\n      <td>178</td>\n      <td>180</td>\n      <td>182</td>\n      <td>183</td>\n      <td>185</td>\n      <td>186</td>\n      <td>...</td>\n      <td>210</td>\n      <td>210</td>\n      <td>210</td>\n      <td>210</td>\n      <td>209</td>\n      <td>208</td>\n      <td>207</td>\n      <td>207</td>\n      <td>207</td>\n      <td>207</td>\n    </tr>\n    <tr>\n      <th>7131</th>\n      <td>0</td>\n      <td>154</td>\n      <td>156</td>\n      <td>160</td>\n      <td>162</td>\n      <td>163</td>\n      <td>165</td>\n      <td>166</td>\n      <td>170</td>\n      <td>169</td>\n      <td>...</td>\n      <td>0</td>\n      <td>0</td>\n      <td>0</td>\n      <td>0</td>\n      <td>0</td>\n      <td>0</td>\n      <td>0</td>\n      <td>0</td>\n      <td>0</td>\n      <td>0</td>\n    </tr>\n    <tr>\n      <th>7133</th>\n      <td>0</td>\n      <td>152</td>\n      <td>153</td>\n      <td>155</td>\n      <td>157</td>\n      <td>158</td>\n      <td>163</td>\n      <td>163</td>\n      <td>164</td>\n      <td>165</td>\n      <td>...</td>\n      <td>0</td>\n      <td>77</td>\n      <td>222</td>\n      <td>202</td>\n      <td>205</td>\n      <td>206</td>\n      <td>207</td>\n      <td>207</td>\n      <td>207</td>\n      <td>207</td>\n    </tr>\n    <tr>\n      <th>7134</th>\n      <td>0</td>\n      <td>197</td>\n      <td>199</td>\n      <td>199</td>\n      <td>199</td>\n      <td>200</td>\n      <td>201</td>\n      <td>202</td>\n      <td>201</td>\n      <td>202</td>\n      <td>...</td>\n      <td>164</td>\n      <td>227</td>\n      <td>226</td>\n      <td>227</td>\n      <td>231</td>\n      <td>219</td>\n      <td>215</td>\n      <td>222</td>\n      <td>230</td>\n      <td>232</td>\n    </tr>\n    <tr>\n      <th>7142</th>\n      <td>0</td>\n      <td>218</td>\n      <td>219</td>\n      <td>219</td>\n      <td>218</td>\n      <td>218</td>\n      <td>218</td>\n      <td>218</td>\n      <td>218</td>\n      <td>218</td>\n      <td>...</td>\n      <td>229</td>\n      <td>227</td>\n      <td>227</td>\n      <td>226</td>\n      <td>224</td>\n      <td>224</td>\n      <td>222</td>\n      <td>221</td>\n      <td>219</td>\n      <td>218</td>\n    </tr>\n  </tbody>\n</table>\n<p>331 rows × 785 columns</p>\n</div>"
     },
     "execution_count": 69,
     "metadata": {},
     "output_type": "execute_result"
    }
   ],
   "source": [
    "l = 0\n",
    "df[df[\"label\"] == l]"
   ],
   "metadata": {
    "collapsed": false,
    "ExecuteTime": {
     "end_time": "2024-10-06T10:31:24.050770Z",
     "start_time": "2024-10-06T10:31:24.002354Z"
    }
   },
   "id": "98dcf2dd0033305e",
   "execution_count": 69
  },
  {
   "cell_type": "code",
   "outputs": [
    {
     "ename": "error",
     "evalue": "OpenCV(4.8.0) /Users/xperience/GHA-OpenCV-Python/_work/opencv-python/opencv-python/opencv/modules/imgproc/src/resize.cpp:3940: error: (-215:Assertion failed) func != 0 in function 'resize'\n",
     "output_type": "error",
     "traceback": [
      "\u001B[0;31m---------------------------------------------------------------------------\u001B[0m",
      "\u001B[0;31merror\u001B[0m                                     Traceback (most recent call last)",
      "Cell \u001B[0;32mIn[78], line 5\u001B[0m\n\u001B[1;32m      3\u001B[0m idx \u001B[38;5;241m=\u001B[39m \u001B[38;5;241m15\u001B[39m\n\u001B[1;32m      4\u001B[0m im \u001B[38;5;241m=\u001B[39m df\u001B[38;5;241m.\u001B[39miloc[idx, \u001B[38;5;241m1\u001B[39m:]\u001B[38;5;241m.\u001B[39mvalues\u001B[38;5;241m.\u001B[39mreshape(\u001B[38;5;241m28\u001B[39m, \u001B[38;5;241m28\u001B[39m) \n\u001B[0;32m----> 5\u001B[0m im \u001B[38;5;241m=\u001B[39m \u001B[43mcv2\u001B[49m\u001B[38;5;241;43m.\u001B[39;49m\u001B[43mresize\u001B[49m\u001B[43m(\u001B[49m\u001B[43mnp\u001B[49m\u001B[38;5;241;43m.\u001B[39;49m\u001B[43mexpand_dims\u001B[49m\u001B[43m(\u001B[49m\u001B[43mim\u001B[49m\u001B[43m,\u001B[49m\u001B[43m \u001B[49m\u001B[38;5;241;43m0\u001B[39;49m\u001B[43m)\u001B[49m\u001B[43m,\u001B[49m\u001B[43m \u001B[49m\u001B[43m(\u001B[49m\u001B[38;5;241;43m128\u001B[39;49m\u001B[43m,\u001B[49m\u001B[43m \u001B[49m\u001B[38;5;241;43m128\u001B[39;49m\u001B[43m)\u001B[49m\u001B[43m)\u001B[49m\n\u001B[1;32m      6\u001B[0m plt\u001B[38;5;241m.\u001B[39mimshow(im, cmap\u001B[38;5;241m=\u001B[39m\u001B[38;5;124m\"\u001B[39m\u001B[38;5;124mgray\u001B[39m\u001B[38;5;124m\"\u001B[39m)\n\u001B[1;32m      7\u001B[0m label \u001B[38;5;241m=\u001B[39m \u001B[38;5;28mint\u001B[39m(df\u001B[38;5;241m.\u001B[39miloc[idx][\u001B[38;5;241m0\u001B[39m])\n",
      "\u001B[0;31merror\u001B[0m: OpenCV(4.8.0) /Users/xperience/GHA-OpenCV-Python/_work/opencv-python/opencv-python/opencv/modules/imgproc/src/resize.cpp:3940: error: (-215:Assertion failed) func != 0 in function 'resize'\n"
     ]
    }
   ],
   "source": [
    "alph = \"ABCDEFGHIJKLMNOPQRSTUVWXYZ\"\n",
    "idx = 15\n",
    "im = df.iloc[idx, 1:].values.reshape(28, 28) \n",
    "plt.imshow(im, cmap=\"gray\")\n",
    "label = int(df.iloc[idx][0])\n",
    "plt.title(f\"Label: {label}\")"
   ],
   "metadata": {
    "collapsed": false,
    "ExecuteTime": {
     "end_time": "2024-10-06T10:37:39.015379Z",
     "start_time": "2024-10-06T10:37:38.984099Z"
    }
   },
   "id": "c2add6f23fb46fe2",
   "execution_count": 78
  },
  {
   "cell_type": "code",
   "outputs": [
    {
     "data": {
      "text/plain": "10"
     },
     "execution_count": 53,
     "metadata": {},
     "output_type": "execute_result"
    }
   ],
   "source": [
    "ann = df[\"label\"]\n",
    "ann.iloc[2]"
   ],
   "metadata": {
    "collapsed": false
   },
   "id": "114a0f6857410c33",
   "execution_count": 53
  },
  {
   "cell_type": "code",
   "outputs": [
    {
     "data": {
      "text/plain": "pandas.core.frame.DataFrame"
     },
     "execution_count": 54,
     "metadata": {},
     "output_type": "execute_result"
    }
   ],
   "source": [
    "data = df.drop(\"label\", axis=1)\n",
    "type(data)"
   ],
   "metadata": {
    "collapsed": false,
    "ExecuteTime": {
     "end_time": "2024-10-06T09:45:27.582883Z",
     "start_time": "2024-10-06T09:45:27.536936Z"
    }
   },
   "id": "61d707ccf40df46e",
   "execution_count": 54
  },
  {
   "cell_type": "code",
   "outputs": [],
   "source": [
    "optdf = pd.read_csv(SIGN_LANG_TRAIN_PATH)"
   ],
   "metadata": {
    "collapsed": false,
    "ExecuteTime": {
     "end_time": "2024-10-06T09:45:28.322665Z",
     "start_time": "2024-10-06T09:45:27.543908Z"
    }
   },
   "id": "40a72f38a49a20a1",
   "execution_count": 55
  },
  {
   "cell_type": "code",
   "outputs": [
    {
     "name": "stdout",
     "output_type": "stream",
     "text": [
      "{0: 331, 1: 432, 2: 310, 3: 245, 4: 498, 5: 247, 6: 348, 7: 436, 8: 288, 10: 331, 11: 209, 12: 394, 13: 291, 14: 246, 15: 347, 16: 164, 17: 144, 18: 246, 19: 248, 20: 266, 21: 346, 22: 206, 23: 267, 24: 332}\n"
     ]
    }
   ],
   "source": [
    "labels = np.sort(optdf[\"label\"].unique())\n",
    "alph_cv_read = \"ABCDEFGHIKLMNOPQRSTUVWXY\"\n",
    "alph_cv_read = [c for c in alph_cv_read]\n",
    "label_c = {l: 0 for l  in labels}\n",
    "\n",
    "for l in labels:\n",
    "    label_c[l] = len(optdf[optdf[\"label\"] == l])\n",
    "\n",
    "print(label_c)"
   ],
   "metadata": {
    "collapsed": false,
    "ExecuteTime": {
     "end_time": "2024-10-06T09:45:28.422408Z",
     "start_time": "2024-10-06T09:45:28.309222Z"
    }
   },
   "id": "5a2dafa6f4e7eae6",
   "execution_count": 56
  },
  {
   "cell_type": "code",
   "outputs": [
    {
     "data": {
      "text/plain": "<BarContainer object of 24 artists>"
     },
     "execution_count": 57,
     "metadata": {},
     "output_type": "execute_result"
    },
    {
     "data": {
      "text/plain": "<Figure size 1200x700 with 1 Axes>",
      "image/png": "[encoded data removed]"
     },
     "metadata": {},
     "output_type": "display_data"
    }
   ],
   "source": [
    "plt.figure(figsize=(12, 7))\n",
    "plt.bar(range(len(alph_cv_read)), list(label_c.values()), tick_label=alph_cv_read, color=[\"c\", \"g\", \"y\"])"
   ],
   "metadata": {
    "collapsed": false,
    "ExecuteTime": {
     "end_time": "2024-10-06T09:45:28.656073Z",
     "start_time": "2024-10-06T09:45:28.422002Z"
    }
   },
   "id": "9067be5b6878531a",
   "execution_count": 57
  },
  {
   "cell_type": "code",
   "outputs": [],
   "source": [],
   "metadata": {
    "collapsed": false
   },
   "id": "f6cc0c948c700a85"
  }
 ],
 "metadata": {
  "kernelspec": {
   "display_name": "Python 3",
   "language": "python",
   "name": "python3"
  },
  "language_info": {
   "codemirror_mode": {
    "name": "ipython",
    "version": 2
   },
   "file_extension": ".py",
   "mimetype": "text/x-python",
   "name": "python",
   "nbconvert_exporter": "python",
   "pygments_lexer": "ipython2",
   "version": "2.7.6"
  }
 },
 "nbformat": 4,
 "nbformat_minor": 5
}
